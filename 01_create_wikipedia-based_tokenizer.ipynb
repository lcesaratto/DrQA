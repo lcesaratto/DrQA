{
 "cells": [
  {
   "cell_type": "code",
   "execution_count": 1,
   "metadata": {},
   "outputs": [],
   "source": [
    "import sqlite3\n",
    "import pandas as pd\n",
    "import gc"
   ]
  },
  {
   "cell_type": "markdown",
   "metadata": {},
   "source": [
    "### Convert Wikipedia sqlite database to a pandas dataframe"
   ]
  },
  {
   "cell_type": "code",
   "execution_count": 2,
   "metadata": {},
   "outputs": [
    {
     "data": {
      "text/html": [
       "<div>\n",
       "<style scoped>\n",
       "    .dataframe tbody tr th:only-of-type {\n",
       "        vertical-align: middle;\n",
       "    }\n",
       "\n",
       "    .dataframe tbody tr th {\n",
       "        vertical-align: top;\n",
       "    }\n",
       "\n",
       "    .dataframe thead th {\n",
       "        text-align: right;\n",
       "    }\n",
       "</style>\n",
       "<table border=\"1\" class=\"dataframe\">\n",
       "  <thead>\n",
       "    <tr style=\"text-align: right;\">\n",
       "      <th></th>\n",
       "      <th>id</th>\n",
       "      <th>text</th>\n",
       "    </tr>\n",
       "  </thead>\n",
       "  <tbody>\n",
       "    <tr>\n",
       "      <th>0</th>\n",
       "      <td>Brazil</td>\n",
       "      <td>Brazil\\n\\nBrazil (; ), officially the Federati...</td>\n",
       "    </tr>\n",
       "    <tr>\n",
       "      <th>1</th>\n",
       "      <td>Black Forest</td>\n",
       "      <td>Black Forest\\n\\nThe Black Forest (, ) is a lar...</td>\n",
       "    </tr>\n",
       "    <tr>\n",
       "      <th>2</th>\n",
       "      <td>Black Sea</td>\n",
       "      <td>Black Sea\\n\\nThe Black Sea is a body of water ...</td>\n",
       "    </tr>\n",
       "    <tr>\n",
       "      <th>3</th>\n",
       "      <td>Bible</td>\n",
       "      <td>Bible\\n\\nThe Bible (from Koine Greek τὰ βιβλία...</td>\n",
       "    </tr>\n",
       "    <tr>\n",
       "      <th>4</th>\n",
       "      <td>British Columbia</td>\n",
       "      <td>British Columbia\\n\\nBritish Columbia (BC) is t...</td>\n",
       "    </tr>\n",
       "  </tbody>\n",
       "</table>\n",
       "</div>"
      ],
      "text/plain": [
       "                 id                                               text\n",
       "0            Brazil  Brazil\\n\\nBrazil (; ), officially the Federati...\n",
       "1      Black Forest  Black Forest\\n\\nThe Black Forest (, ) is a lar...\n",
       "2         Black Sea  Black Sea\\n\\nThe Black Sea is a body of water ...\n",
       "3             Bible  Bible\\n\\nThe Bible (from Koine Greek τὰ βιβλία...\n",
       "4  British Columbia  British Columbia\\n\\nBritish Columbia (BC) is t..."
      ]
     },
     "execution_count": 2,
     "metadata": {},
     "output_type": "execute_result"
    }
   ],
   "source": [
    "db_path = \"data/wikipedia/docs.db\"\n",
    "connection = sqlite3.connect(db_path, check_same_thread=False)\n",
    "cursor = connection.cursor()\n",
    "\n",
    "cursor.execute(\"SELECT id, text FROM documents\")\n",
    "data_json = {\"id\": [], \"text\": []}\n",
    "for r in cursor.fetchall():\n",
    "    data_json[\"id\"].append(r[0]); data_json[\"text\"].append(r[1])\n",
    "cursor.close()\n",
    "connection.close()\n",
    "\n",
    "data_df = pd.DataFrame.from_dict(data_json)\n",
    "\n",
    "del data_json\n",
    "gc.collect()\n",
    "\n",
    "# data_df.to_csv(\"datasets_lisandro/wikipedia.csv\", index=False)\n",
    "data_df.head(5)"
   ]
  },
  {
   "cell_type": "markdown",
   "metadata": {},
   "source": [
    "### Create Wikipedia-based tokenizer and save"
   ]
  },
  {
   "cell_type": "code",
   "execution_count": 4,
   "metadata": {},
   "outputs": [
    {
     "data": {
      "text/plain": [
       "TfidfVectorizer(ngram_range=(1, 2), stop_words='english',\n",
       "                strip_accents='unicode')"
      ]
     },
     "execution_count": 4,
     "metadata": {},
     "output_type": "execute_result"
    }
   ],
   "source": [
    "from sklearn.feature_extraction.text import TfidfVectorizer\n",
    "import pickle\n",
    "\n",
    "vectorizer = TfidfVectorizer(\n",
    "                            strip_accents='unicode',\n",
    "                            analyzer='word',\n",
    "                            stop_words='english',\n",
    "                            lowercase=True,\n",
    "                            ngram_range=(1,2))\n",
    "                            \n",
    "vectorizer.fit(data_df[\"text\"])\n",
    "pickle.dump(vectorizer, open(\"models_lisandro/2gram_tfidf.pkl\", \"wb\"))"
   ]
  }
 ],
 "metadata": {
  "interpreter": {
   "hash": "93b4b5566743436c947035f528e38c44cc6a06c2ee96d5f0af65aef54b1da49d"
  },
  "kernelspec": {
   "display_name": "Python 3.9.9 ('venv': venv)",
   "language": "python",
   "name": "python3"
  },
  "language_info": {
   "codemirror_mode": {
    "name": "ipython",
    "version": 3
   },
   "file_extension": ".py",
   "mimetype": "text/x-python",
   "name": "python",
   "nbconvert_exporter": "python",
   "pygments_lexer": "ipython3",
   "version": "3.9.9"
  },
  "orig_nbformat": 4
 },
 "nbformat": 4,
 "nbformat_minor": 2
}
