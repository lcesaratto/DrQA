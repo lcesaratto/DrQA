{
 "cells": [
  {
   "cell_type": "code",
   "execution_count": 27,
   "metadata": {},
   "outputs": [],
   "source": [
    "import sqlite3\n",
    "import pandas as pd\n",
    "from transformers import BertTokenizer, BertForQuestionAnswering\n",
    "import transformers\n",
    "import torch\n",
    "\n",
    "\n",
    "transformers.logging.set_verbosity_error()"
   ]
  },
  {
   "cell_type": "code",
   "execution_count": 17,
   "metadata": {},
   "outputs": [
    {
     "name": "stdout",
     "output_type": "stream",
     "text": [
      "Query:  How long do Hamsters live?\n",
      "Relevant documents:\n"
     ]
    },
    {
     "data": {
      "text/html": [
       "<div>\n",
       "<style scoped>\n",
       "    .dataframe tbody tr th:only-of-type {\n",
       "        vertical-align: middle;\n",
       "    }\n",
       "\n",
       "    .dataframe tbody tr th {\n",
       "        vertical-align: top;\n",
       "    }\n",
       "\n",
       "    .dataframe thead th {\n",
       "        text-align: right;\n",
       "    }\n",
       "</style>\n",
       "<table border=\"1\" class=\"dataframe\">\n",
       "  <thead>\n",
       "    <tr style=\"text-align: right;\">\n",
       "      <th></th>\n",
       "      <th>id</th>\n",
       "      <th>text</th>\n",
       "    </tr>\n",
       "  </thead>\n",
       "  <tbody>\n",
       "    <tr>\n",
       "      <th>0</th>\n",
       "      <td>Animal testing on Syrian hamsters</td>\n",
       "      <td>Animal testing on Syrian hamsters\\n\\nSyrian ha...</td>\n",
       "    </tr>\n",
       "    <tr>\n",
       "      <th>1</th>\n",
       "      <td>Domestication of the Syrian hamster</td>\n",
       "      <td>Domestication of the Syrian hamster\\n\\nThe dom...</td>\n",
       "    </tr>\n",
       "    <tr>\n",
       "      <th>2</th>\n",
       "      <td>Golden hamster</td>\n",
       "      <td>Golden hamster\\n\\nThe golden hamster, or Syria...</td>\n",
       "    </tr>\n",
       "    <tr>\n",
       "      <th>3</th>\n",
       "      <td>Hamster</td>\n",
       "      <td>Hamster\\n\\nHamsters are rodents belonging to t...</td>\n",
       "    </tr>\n",
       "    <tr>\n",
       "      <th>4</th>\n",
       "      <td>The Hamsters (album)</td>\n",
       "      <td>The Hamsters (album)\\n\\nThe Hamsters (1993) (k...</td>\n",
       "    </tr>\n",
       "  </tbody>\n",
       "</table>\n",
       "</div>"
      ],
      "text/plain": [
       "                                    id  \\\n",
       "0    Animal testing on Syrian hamsters   \n",
       "1  Domestication of the Syrian hamster   \n",
       "2                       Golden hamster   \n",
       "3                              Hamster   \n",
       "4                 The Hamsters (album)   \n",
       "\n",
       "                                                text  \n",
       "0  Animal testing on Syrian hamsters\\n\\nSyrian ha...  \n",
       "1  Domestication of the Syrian hamster\\n\\nThe dom...  \n",
       "2  Golden hamster\\n\\nThe golden hamster, or Syria...  \n",
       "3  Hamster\\n\\nHamsters are rodents belonging to t...  \n",
       "4  The Hamsters (album)\\n\\nThe Hamsters (1993) (k...  "
      ]
     },
     "metadata": {},
     "output_type": "display_data"
    }
   ],
   "source": [
    "query = \"How long do Hamsters live?\"\n",
    "\n",
    "selected_ids = str((\"Animal testing on Syrian hamsters\", \"Domestication of the Syrian hamster\",\n",
    "                \"Golden hamster\", \"Hamster\", \"The Hamsters (album)\"))\n",
    "\n",
    "db_path = \"data/wikipedia/docs.db\"\n",
    "connection = sqlite3.connect(db_path, check_same_thread=False)\n",
    "cursor = connection.cursor()\n",
    "\n",
    "cursor.execute(\"SELECT id, text FROM documents WHERE id IN \" + selected_ids)\n",
    "data_json = {\"id\": [], \"text\": []}\n",
    "for r in cursor.fetchall():\n",
    "    data_json[\"id\"].append(r[0]); data_json[\"text\"].append(r[1])\n",
    "\n",
    "cursor.close()\n",
    "connection.close()\n",
    "\n",
    "examples = [[data_json['text'][idx], query] for idx in range(len(data_json[\"text\"]))]\n",
    "\n",
    "print(\"Query: \", query)\n",
    "print(\"Relevant documents:\")\n",
    "display(pd.DataFrame.from_dict(data_json).head(5))"
   ]
  },
  {
   "cell_type": "code",
   "execution_count": 33,
   "metadata": {},
   "outputs": [
    {
     "name": "stdout",
     "output_type": "stream",
     "text": [
      "two to three years\n"
     ]
    }
   ],
   "source": [
    "tokenizer = BertTokenizer.from_pretrained(\"bert-large-uncased-whole-word-masking-finetuned-squad\")\n",
    "model = BertForQuestionAnswering.from_pretrained(\"bert-large-uncased-whole-word-masking-finetuned-squad\")\n",
    "\n",
    "final_answer = \"\"\n",
    "max_start_score = max_end_score = 0\n",
    "\n",
    "for example in examples:\n",
    "    question, text = example[1], example[0]\n",
    "    inputs = tokenizer(question, text, return_tensors=\"pt\", max_length=512, truncation=True)\n",
    "\n",
    "    outputs = model(**inputs)\n",
    "    start_scores = outputs.start_logits\n",
    "    end_scores = outputs.end_logits\n",
    "\n",
    "    input_ids = inputs[\"input_ids\"].tolist()[0]\n",
    "    answer_start = torch.argmax(start_scores)\n",
    "    answer_end = torch.argmax(end_scores) +1\n",
    "\n",
    "    answer = tokenizer.decode(input_ids[answer_start:answer_end])\n",
    "    \n",
    "    if torch.max(start_scores) > max_start_score and \\\n",
    "        torch.max(end_scores) > max_end_score:\n",
    "        final_answer = answer\n",
    "        max_start_score = torch.max(start_scores)\n",
    "        max_end_score = torch.max(end_scores)\n",
    "    \n",
    "print(final_answer)"
   ]
  }
 ],
 "metadata": {
  "interpreter": {
   "hash": "93b4b5566743436c947035f528e38c44cc6a06c2ee96d5f0af65aef54b1da49d"
  },
  "kernelspec": {
   "display_name": "Python 3.9.9 ('venv': venv)",
   "language": "python",
   "name": "python3"
  },
  "language_info": {
   "codemirror_mode": {
    "name": "ipython",
    "version": 3
   },
   "file_extension": ".py",
   "mimetype": "text/x-python",
   "name": "python",
   "nbconvert_exporter": "python",
   "pygments_lexer": "ipython3",
   "version": "3.9.9"
  },
  "orig_nbformat": 4
 },
 "nbformat": 4,
 "nbformat_minor": 2
}
